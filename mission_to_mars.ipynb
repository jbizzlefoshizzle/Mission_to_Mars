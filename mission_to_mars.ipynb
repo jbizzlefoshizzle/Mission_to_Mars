{
 "cells": [
  {
   "cell_type": "markdown",
   "metadata": {},
   "source": [
    "## The following cells were coded on a Windows PC. Browser and webdriver had to be called separately in order to inspect and extract web elements."
   ]
  },
  {
   "cell_type": "code",
   "execution_count": 188,
   "metadata": {},
   "outputs": [],
   "source": [
    "# import dependencies\n",
    "from splinter import Browser\n",
    "from bs4 import BeautifulSoup\n",
    "from selenium import webdriver"
   ]
  },
  {
   "cell_type": "code",
   "execution_count": null,
   "metadata": {},
   "outputs": [],
   "source": [
    "# driver = webdriver.Chrome()\n",
    "\n",
    "# browser = Browser('chrome', headless=True)"
   ]
  },
  {
   "cell_type": "code",
   "execution_count": 189,
   "metadata": {},
   "outputs": [],
   "source": [
    "executable_path = {'executable_path': 'C:\\\\Users\\\\jbpar\\\\Desktop\\\\git\\\\Mission_to_Mars\\\\chromedriver.exe'}\n",
    "browser = Browser('chrome', **executable_path)"
   ]
  },
  {
   "cell_type": "code",
   "execution_count": 190,
   "metadata": {},
   "outputs": [],
   "source": [
    "# Websizzle used for scraping\n",
    "url = 'https://mars.nasa.gov/news/'\n",
    "# Hey, driver! Go get it.\n",
    "browser.visit(url)\n",
    "# driver.get(url)"
   ]
  },
  {
   "cell_type": "markdown",
   "metadata": {},
   "source": [
    "### NASA Mars News"
   ]
  },
  {
   "cell_type": "code",
   "execution_count": 191,
   "metadata": {},
   "outputs": [
    {
     "data": {
      "text/plain": [
       "True"
      ]
     },
     "execution_count": 191,
     "metadata": {},
     "output_type": "execute_result"
    }
   ],
   "source": [
    "# Element check - optional\n",
    "browser.is_element_present_by_css(\"ul.item_list li.slide\", wait_time=1)"
   ]
  },
  {
   "cell_type": "code",
   "execution_count": 192,
   "metadata": {},
   "outputs": [],
   "source": [
    "# If we have our elements\n",
    "# Now we can make our Soup\n",
    "html = browser.html\n",
    "news_soup = BeautifulSoup(html, 'html.parser')"
   ]
  },
  {
   "cell_type": "code",
   "execution_count": 193,
   "metadata": {},
   "outputs": [
    {
     "data": {
      "text/plain": [
       "<li class=\"slide\"><div class=\"image_and_description_container\"><a href=\"/news/8459/want-to-colonize-mars-aerogel-could-help/\" target=\"_self\"><div class=\"rollover_description\"><div class=\"rollover_description_inner\">Researchers are studying whether a wonder material used in Mars rovers could help warm parts of the Red Planet rich in water ice.</div><div class=\"overlay_arrow\"><img alt=\"More\" src=\"/assets/overlay-arrow.png\"/></div></div><div class=\"list_image\"><img alt=\"Scientists are exploring how aerogel, a translucent, Styrofoam-like material, could be used as a building material on Mars.\" src=\"/system/news_items/list_view_images/8459_PIA23343-320x240.jpg\"/></div><div class=\"bottom_gradient\"><div><h3>Want to Colonize Mars? Aerogel Could Help</h3></div></div></a><div class=\"list_text\"><div class=\"list_date\">July 15, 2019</div><div class=\"content_title\"><a href=\"/news/8459/want-to-colonize-mars-aerogel-could-help/\" target=\"_self\">Want to Colonize Mars? Aerogel Could Help</a></div><div class=\"article_teaser_body\">Researchers are studying whether a wonder material used in Mars rovers could help warm parts of the Red Planet rich in water ice.</div></div></div></li>"
      ]
     },
     "execution_count": 193,
     "metadata": {},
     "output_type": "execute_result"
    }
   ],
   "source": [
    "# Slide element ONE\n",
    "slide_elem = news_soup.select_one('ul.item_list li.slide')\n",
    "slide_elem"
   ]
  },
  {
   "cell_type": "code",
   "execution_count": 194,
   "metadata": {},
   "outputs": [
    {
     "data": {
      "text/plain": [
       "<div class=\"content_title\"><a href=\"/news/8459/want-to-colonize-mars-aerogel-could-help/\" target=\"_self\">Want to Colonize Mars? Aerogel Could Help</a></div>"
      ]
     },
     "execution_count": 194,
     "metadata": {},
     "output_type": "execute_result"
    }
   ],
   "source": [
    "# WHAT'S IT CALLED? What is its name?\n",
    "# Pulling out div class=\"content_title\" ingredients\n",
    "slide_elem.find('div', class_=\"content_title\")"
   ]
  },
  {
   "cell_type": "code",
   "execution_count": 195,
   "metadata": {},
   "outputs": [
    {
     "data": {
      "text/plain": [
       "'Want to Colonize Mars? Aerogel Could Help'"
      ]
     },
     "execution_count": 195,
     "metadata": {},
     "output_type": "execute_result"
    }
   ],
   "source": [
    "# Extracting what we want\n",
    "# Define variable using 'find' string; get text\n",
    "news_title = slide_elem.find('div', class_=\"content_title\").get_text()\n",
    "news_title"
   ]
  },
  {
   "cell_type": "code",
   "execution_count": 196,
   "metadata": {},
   "outputs": [
    {
     "data": {
      "text/plain": [
       "<div class=\"article_teaser_body\">Researchers are studying whether a wonder material used in Mars rovers could help warm parts of the Red Planet rich in water ice.</div>"
      ]
     },
     "execution_count": 196,
     "metadata": {},
     "output_type": "execute_result"
    }
   ],
   "source": [
    "# Pulling out div class=\"article_teaser_body\" (paragraph) ingredients\n",
    "slide_elem.find('div', class_=\"article_teaser_body\")"
   ]
  },
  {
   "cell_type": "code",
   "execution_count": 197,
   "metadata": {},
   "outputs": [
    {
     "data": {
      "text/plain": [
       "'Researchers are studying whether a wonder material used in Mars rovers could help warm parts of the Red Planet rich in water ice.'"
      ]
     },
     "execution_count": 197,
     "metadata": {},
     "output_type": "execute_result"
    }
   ],
   "source": [
    "news_p = slide_elem.find('div', class_=\"article_teaser_body\").get_text()\n",
    "news_p"
   ]
  },
  {
   "cell_type": "markdown",
   "metadata": {},
   "source": [
    "### JPL Space Images Featured Image"
   ]
  },
  {
   "cell_type": "code",
   "execution_count": 198,
   "metadata": {},
   "outputs": [],
   "source": [
    "# Open, visit, and scrape the proper site\n",
    "url = 'https://www.jpl.nasa.gov/spaceimages/?search=&category=Mars'\n",
    "browser.visit(url)\n",
    "# driver.get(url)"
   ]
  },
  {
   "cell_type": "code",
   "execution_count": 199,
   "metadata": {},
   "outputs": [],
   "source": [
    "# Need to see what's up with the \"Full Image\" button\n",
    "# full_image_elem = driver.find_element_by_id(\"full_image\")\n",
    "full_image_elem = browser.find_by_id('full_image')\n",
    "\n",
    "# CLICK the \"Full Image\" button\n",
    "full_image_elem.click()"
   ]
  },
  {
   "cell_type": "code",
   "execution_count": 200,
   "metadata": {},
   "outputs": [],
   "source": [
    "# Need to see what's up with the \"More Info\" button\n",
    "# more_info = driver.find_element_by_partial_link_text('more info')\n",
    "more_info = browser.find_link_by_partial_text('more info')\n",
    "# CLICK the \"More Info\" button\n",
    "more_info.click()"
   ]
  },
  {
   "cell_type": "code",
   "execution_count": 201,
   "metadata": {},
   "outputs": [],
   "source": [
    "html = browser.html\n",
    "img_soup = BeautifulSoup(html, 'html.parser')"
   ]
  },
  {
   "cell_type": "code",
   "execution_count": 202,
   "metadata": {},
   "outputs": [
    {
     "data": {
      "text/plain": [
       "'/spaceimages/images/largesize/PIA14934_hires.jpg'"
      ]
     },
     "execution_count": 202,
     "metadata": {},
     "output_type": "execute_result"
    }
   ],
   "source": [
    "# Traverse the CSS\n",
    "# <figure class=\"lede\"> --> <a href = \"blahblah\"> --> <img alt/title/class=\"blah\" src=\"WHAT WE WANT\">\n",
    "\n",
    "#img_url_rel = img_soup.select_one('figure.lede a img')#.get(\"src\") # THIS IS THE IMAGE SOURCE\n",
    "img_url_rel = img_soup.select_one('figure.lede a img').get(\"src\")\n",
    "img_url_rel"
   ]
  },
  {
   "cell_type": "code",
   "execution_count": 203,
   "metadata": {},
   "outputs": [
    {
     "name": "stdout",
     "output_type": "stream",
     "text": [
      "https://www.jpl.nasa.gov/spaceimages/images/largesize/PIA14934_hires.jpg\n"
     ]
    }
   ],
   "source": [
    "#Create url by appending things to other things\n",
    "\n",
    "url_base = 'https://www.jpl.nasa.gov'\n",
    "\n",
    "img_url = f'{url_base}{img_url_rel}'\n",
    "print(img_url) #Check the link"
   ]
  },
  {
   "cell_type": "code",
   "execution_count": null,
   "metadata": {},
   "outputs": [],
   "source": []
  }
 ],
 "metadata": {
  "kernelspec": {
   "display_name": "Python [conda env:PythonData] *",
   "language": "python",
   "name": "conda-env-PythonData-py"
  },
  "language_info": {
   "codemirror_mode": {
    "name": "ipython",
    "version": 3
   },
   "file_extension": ".py",
   "mimetype": "text/x-python",
   "name": "python",
   "nbconvert_exporter": "python",
   "pygments_lexer": "ipython3",
   "version": "3.7.3"
  }
 },
 "nbformat": 4,
 "nbformat_minor": 2
}
